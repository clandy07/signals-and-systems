{
 "cells": [
  {
   "cell_type": "code",
   "execution_count": 1,
   "id": "537b9ddb",
   "metadata": {},
   "outputs": [
    {
     "name": "stdout",
     "output_type": "stream",
     "text": [
      "Linearity: True\n",
      "Time-Invariant: False\n",
      "Causal: False\n",
      "Stable: True\n"
     ]
    }
   ],
   "source": [
    "import numpy as np\n",
    "\n",
    "def median_filter(x):\n",
    "    y = []\n",
    "    for i in range(len(x)):\n",
    "        if i == 0:\n",
    "            window = [x[0], x[0], x[1] if len(x) > 1 else x[0]]  # Pad with x[0]\n",
    "        elif i == len(x) - 1:\n",
    "            window = [x[i-1], x[i], x[i]]  \n",
    "        else:\n",
    "            window = [x[i-1], x[i], x[i+1]]\n",
    "        y.append(sorted(window)[1])  \n",
    "    return y\n",
    "\n",
    "def test_properties():\n",
    "    # Test Linearity\n",
    "    x1 = [0, 100, 0, 0]\n",
    "    x2 = [0, 1, 0, 0]\n",
    "    x_sum = [x + y for x, y in zip(x1, x2)]\n",
    "    \n",
    "    y1 = median_filter(x1)\n",
    "    y2 = median_filter(x2)\n",
    "    y_sum = median_filter(x_sum)\n",
    "    y1_plus_y2 = [x + y for x, y in zip(y1, y2)]\n",
    "    \n",
    "    is_linear = y_sum == y1_plus_y2\n",
    "    print(\"Linearity:\", is_linear)  \n",
    "\n",
    "    # Test Time-Invariance\n",
    "    x = [1, 0, 5, 0, 2]\n",
    "    x_shifted = [0] + x[:-1]  \n",
    "    y = median_filter(x)\n",
    "    y_shifted_input = median_filter(x_shifted)\n",
    "    y_shifted_output = [0] + y[:-1] \n",
    "    \n",
    "    is_time_invariant = y_shifted_input == y_shifted_output\n",
    "    print(\"Time-Invariant:\", is_time_invariant) \n",
    "\n",
    "    # Test Causality\n",
    "    is_causal = False\n",
    "    print(\"Causal:\", is_causal)\n",
    "\n",
    "    # Test Stability\n",
    "    is_stable = True\n",
    "    print(\"Stable:\", is_stable)\n",
    "\n",
    "if __name__ == \"__main__\":\n",
    "    test_properties()"
   ]
  }
 ],
 "metadata": {
  "kernelspec": {
   "display_name": "Python 3",
   "language": "python",
   "name": "python3"
  },
  "language_info": {
   "codemirror_mode": {
    "name": "ipython",
    "version": 3
   },
   "file_extension": ".py",
   "mimetype": "text/x-python",
   "name": "python",
   "nbconvert_exporter": "python",
   "pygments_lexer": "ipython3",
   "version": "3.12.6"
  }
 },
 "nbformat": 4,
 "nbformat_minor": 5
}
